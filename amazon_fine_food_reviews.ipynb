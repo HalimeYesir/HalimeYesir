{
 "cells": [
  {
   "cell_type": "code",
   "execution_count": 1,
   "id": "5c16f5a4-313d-4ab0-a95f-d65b2a1bb656",
   "metadata": {},
   "outputs": [],
   "source": [
    "import pandas as pd\n",
    "import numpy as np"
   ]
  },
  {
   "cell_type": "code",
   "execution_count": 16,
   "id": "2f2adbe8-94c1-46bd-afc9-48b358e4b562",
   "metadata": {},
   "outputs": [],
   "source": [
    "import warnings\n",
    "warnings.filterwarnings('ignore')"
   ]
  },
  {
   "cell_type": "code",
   "execution_count": 3,
   "id": "18ddc104-f6ad-4a3a-bed3-4a15f2b034c7",
   "metadata": {},
   "outputs": [
    {
     "data": {
      "text/html": [
       "<div>\n",
       "<style scoped>\n",
       "    .dataframe tbody tr th:only-of-type {\n",
       "        vertical-align: middle;\n",
       "    }\n",
       "\n",
       "    .dataframe tbody tr th {\n",
       "        vertical-align: top;\n",
       "    }\n",
       "\n",
       "    .dataframe thead th {\n",
       "        text-align: right;\n",
       "    }\n",
       "</style>\n",
       "<table border=\"1\" class=\"dataframe\">\n",
       "  <thead>\n",
       "    <tr style=\"text-align: right;\">\n",
       "      <th></th>\n",
       "      <th>Id</th>\n",
       "      <th>ProductId</th>\n",
       "      <th>UserId</th>\n",
       "      <th>ProfileName</th>\n",
       "      <th>HelpfulnessNumerator</th>\n",
       "      <th>HelpfulnessDenominator</th>\n",
       "      <th>Score</th>\n",
       "      <th>Time</th>\n",
       "      <th>Summary</th>\n",
       "      <th>Text</th>\n",
       "    </tr>\n",
       "  </thead>\n",
       "  <tbody>\n",
       "    <tr>\n",
       "      <th>0</th>\n",
       "      <td>1</td>\n",
       "      <td>B001E4KFG0</td>\n",
       "      <td>A3SGXH7AUHU8GW</td>\n",
       "      <td>delmartian</td>\n",
       "      <td>1</td>\n",
       "      <td>1</td>\n",
       "      <td>5</td>\n",
       "      <td>1303862400</td>\n",
       "      <td>Good Quality Dog Food</td>\n",
       "      <td>I have bought several of the Vitality canned d...</td>\n",
       "    </tr>\n",
       "    <tr>\n",
       "      <th>1</th>\n",
       "      <td>2</td>\n",
       "      <td>B00813GRG4</td>\n",
       "      <td>A1D87F6ZCVE5NK</td>\n",
       "      <td>dll pa</td>\n",
       "      <td>0</td>\n",
       "      <td>0</td>\n",
       "      <td>1</td>\n",
       "      <td>1346976000</td>\n",
       "      <td>Not as Advertised</td>\n",
       "      <td>Product arrived labeled as Jumbo Salted Peanut...</td>\n",
       "    </tr>\n",
       "    <tr>\n",
       "      <th>2</th>\n",
       "      <td>3</td>\n",
       "      <td>B000LQOCH0</td>\n",
       "      <td>ABXLMWJIXXAIN</td>\n",
       "      <td>Natalia Corres \"Natalia Corres\"</td>\n",
       "      <td>1</td>\n",
       "      <td>1</td>\n",
       "      <td>4</td>\n",
       "      <td>1219017600</td>\n",
       "      <td>\"Delight\" says it all</td>\n",
       "      <td>This is a confection that has been around a fe...</td>\n",
       "    </tr>\n",
       "    <tr>\n",
       "      <th>3</th>\n",
       "      <td>4</td>\n",
       "      <td>B000UA0QIQ</td>\n",
       "      <td>A395BORC6FGVXV</td>\n",
       "      <td>Karl</td>\n",
       "      <td>3</td>\n",
       "      <td>3</td>\n",
       "      <td>2</td>\n",
       "      <td>1307923200</td>\n",
       "      <td>Cough Medicine</td>\n",
       "      <td>If you are looking for the secret ingredient i...</td>\n",
       "    </tr>\n",
       "    <tr>\n",
       "      <th>4</th>\n",
       "      <td>5</td>\n",
       "      <td>B006K2ZZ7K</td>\n",
       "      <td>A1UQRSCLF8GW1T</td>\n",
       "      <td>Michael D. Bigham \"M. Wassir\"</td>\n",
       "      <td>0</td>\n",
       "      <td>0</td>\n",
       "      <td>5</td>\n",
       "      <td>1350777600</td>\n",
       "      <td>Great taffy</td>\n",
       "      <td>Great taffy at a great price.  There was a wid...</td>\n",
       "    </tr>\n",
       "  </tbody>\n",
       "</table>\n",
       "</div>"
      ],
      "text/plain": [
       "   Id   ProductId          UserId                      ProfileName  \\\n",
       "0   1  B001E4KFG0  A3SGXH7AUHU8GW                       delmartian   \n",
       "1   2  B00813GRG4  A1D87F6ZCVE5NK                           dll pa   \n",
       "2   3  B000LQOCH0   ABXLMWJIXXAIN  Natalia Corres \"Natalia Corres\"   \n",
       "3   4  B000UA0QIQ  A395BORC6FGVXV                             Karl   \n",
       "4   5  B006K2ZZ7K  A1UQRSCLF8GW1T    Michael D. Bigham \"M. Wassir\"   \n",
       "\n",
       "   HelpfulnessNumerator  HelpfulnessDenominator  Score        Time  \\\n",
       "0                     1                       1      5  1303862400   \n",
       "1                     0                       0      1  1346976000   \n",
       "2                     1                       1      4  1219017600   \n",
       "3                     3                       3      2  1307923200   \n",
       "4                     0                       0      5  1350777600   \n",
       "\n",
       "                 Summary                                               Text  \n",
       "0  Good Quality Dog Food  I have bought several of the Vitality canned d...  \n",
       "1      Not as Advertised  Product arrived labeled as Jumbo Salted Peanut...  \n",
       "2  \"Delight\" says it all  This is a confection that has been around a fe...  \n",
       "3         Cough Medicine  If you are looking for the secret ingredient i...  \n",
       "4            Great taffy  Great taffy at a great price.  There was a wid...  "
      ]
     },
     "execution_count": 3,
     "metadata": {},
     "output_type": "execute_result"
    }
   ],
   "source": [
    "reviews = pd.read_csv(\"Reviews.csv\")\n",
    "df = reviews.copy()\n",
    "df.head()"
   ]
  },
  {
   "cell_type": "code",
   "execution_count": 4,
   "id": "bf0ded2f-99f2-4da4-b282-d2df2887d028",
   "metadata": {},
   "outputs": [
    {
     "data": {
      "text/plain": [
       "Id                         0\n",
       "ProductId                  0\n",
       "UserId                     0\n",
       "ProfileName               16\n",
       "HelpfulnessNumerator       0\n",
       "HelpfulnessDenominator     0\n",
       "Score                      0\n",
       "Time                       0\n",
       "Summary                   27\n",
       "Text                       0\n",
       "dtype: int64"
      ]
     },
     "execution_count": 4,
     "metadata": {},
     "output_type": "execute_result"
    }
   ],
   "source": [
    "df.isnull().sum()"
   ]
  },
  {
   "cell_type": "code",
   "execution_count": 5,
   "id": "b4941e02-2206-4c04-ace7-50aa2bf8025c",
   "metadata": {},
   "outputs": [
    {
     "name": "stdout",
     "output_type": "stream",
     "text": [
      "<class 'pandas.core.frame.DataFrame'>\n",
      "RangeIndex: 568454 entries, 0 to 568453\n",
      "Data columns (total 10 columns):\n",
      " #   Column                  Non-Null Count   Dtype \n",
      "---  ------                  --------------   ----- \n",
      " 0   Id                      568454 non-null  int64 \n",
      " 1   ProductId               568454 non-null  object\n",
      " 2   UserId                  568454 non-null  object\n",
      " 3   ProfileName             568438 non-null  object\n",
      " 4   HelpfulnessNumerator    568454 non-null  int64 \n",
      " 5   HelpfulnessDenominator  568454 non-null  int64 \n",
      " 6   Score                   568454 non-null  int64 \n",
      " 7   Time                    568454 non-null  int64 \n",
      " 8   Summary                 568427 non-null  object\n",
      " 9   Text                    568454 non-null  object\n",
      "dtypes: int64(5), object(5)\n",
      "memory usage: 43.4+ MB\n"
     ]
    }
   ],
   "source": [
    "df.info()"
   ]
  },
  {
   "cell_type": "code",
   "execution_count": 6,
   "id": "14d9d0df-01b5-4b77-a85a-43a69034c317",
   "metadata": {},
   "outputs": [],
   "source": [
    "df[\"ProfileName\"] = df[\"ProfileName\"].fillna(df[\"ProfileName\"].mode()[0])\n",
    "df[\"Summary\"] = df[\"Summary\"].fillna(df[\"Summary\"].mode()[0])"
   ]
  },
  {
   "cell_type": "code",
   "execution_count": 7,
   "id": "d6642f22-1656-4471-8e1a-c81edffc1484",
   "metadata": {},
   "outputs": [
    {
     "data": {
      "text/plain": [
       "Id                        0\n",
       "ProductId                 0\n",
       "UserId                    0\n",
       "ProfileName               0\n",
       "HelpfulnessNumerator      0\n",
       "HelpfulnessDenominator    0\n",
       "Score                     0\n",
       "Time                      0\n",
       "Summary                   0\n",
       "Text                      0\n",
       "dtype: int64"
      ]
     },
     "execution_count": 7,
     "metadata": {},
     "output_type": "execute_result"
    }
   ],
   "source": [
    "df.isnull().sum()"
   ]
  },
  {
   "cell_type": "code",
   "execution_count": 8,
   "id": "707aee24-d79e-45c6-8995-aeb8b131d4a1",
   "metadata": {},
   "outputs": [
    {
     "data": {
      "text/html": [
       "<div>\n",
       "<style scoped>\n",
       "    .dataframe tbody tr th:only-of-type {\n",
       "        vertical-align: middle;\n",
       "    }\n",
       "\n",
       "    .dataframe tbody tr th {\n",
       "        vertical-align: top;\n",
       "    }\n",
       "\n",
       "    .dataframe thead th {\n",
       "        text-align: right;\n",
       "    }\n",
       "</style>\n",
       "<table border=\"1\" class=\"dataframe\">\n",
       "  <thead>\n",
       "    <tr style=\"text-align: right;\">\n",
       "      <th></th>\n",
       "      <th>Id</th>\n",
       "      <th>ProductId</th>\n",
       "      <th>UserId</th>\n",
       "      <th>ProfileName</th>\n",
       "      <th>HelpfulnessNumerator</th>\n",
       "      <th>HelpfulnessDenominator</th>\n",
       "      <th>Time</th>\n",
       "      <th>Summary</th>\n",
       "      <th>Text</th>\n",
       "    </tr>\n",
       "    <tr>\n",
       "      <th>Score</th>\n",
       "      <th></th>\n",
       "      <th></th>\n",
       "      <th></th>\n",
       "      <th></th>\n",
       "      <th></th>\n",
       "      <th></th>\n",
       "      <th></th>\n",
       "      <th></th>\n",
       "      <th></th>\n",
       "    </tr>\n",
       "  </thead>\n",
       "  <tbody>\n",
       "    <tr>\n",
       "      <th>1</th>\n",
       "      <td>52268</td>\n",
       "      <td>52268</td>\n",
       "      <td>52268</td>\n",
       "      <td>52268</td>\n",
       "      <td>52268</td>\n",
       "      <td>52268</td>\n",
       "      <td>52268</td>\n",
       "      <td>52268</td>\n",
       "      <td>52268</td>\n",
       "    </tr>\n",
       "    <tr>\n",
       "      <th>2</th>\n",
       "      <td>29769</td>\n",
       "      <td>29769</td>\n",
       "      <td>29769</td>\n",
       "      <td>29769</td>\n",
       "      <td>29769</td>\n",
       "      <td>29769</td>\n",
       "      <td>29769</td>\n",
       "      <td>29769</td>\n",
       "      <td>29769</td>\n",
       "    </tr>\n",
       "    <tr>\n",
       "      <th>3</th>\n",
       "      <td>42640</td>\n",
       "      <td>42640</td>\n",
       "      <td>42640</td>\n",
       "      <td>42640</td>\n",
       "      <td>42640</td>\n",
       "      <td>42640</td>\n",
       "      <td>42640</td>\n",
       "      <td>42640</td>\n",
       "      <td>42640</td>\n",
       "    </tr>\n",
       "    <tr>\n",
       "      <th>4</th>\n",
       "      <td>80655</td>\n",
       "      <td>80655</td>\n",
       "      <td>80655</td>\n",
       "      <td>80655</td>\n",
       "      <td>80655</td>\n",
       "      <td>80655</td>\n",
       "      <td>80655</td>\n",
       "      <td>80655</td>\n",
       "      <td>80655</td>\n",
       "    </tr>\n",
       "    <tr>\n",
       "      <th>5</th>\n",
       "      <td>363122</td>\n",
       "      <td>363122</td>\n",
       "      <td>363122</td>\n",
       "      <td>363122</td>\n",
       "      <td>363122</td>\n",
       "      <td>363122</td>\n",
       "      <td>363122</td>\n",
       "      <td>363122</td>\n",
       "      <td>363122</td>\n",
       "    </tr>\n",
       "  </tbody>\n",
       "</table>\n",
       "</div>"
      ],
      "text/plain": [
       "           Id  ProductId  UserId  ProfileName  HelpfulnessNumerator  \\\n",
       "Score                                                                 \n",
       "1       52268      52268   52268        52268                 52268   \n",
       "2       29769      29769   29769        29769                 29769   \n",
       "3       42640      42640   42640        42640                 42640   \n",
       "4       80655      80655   80655        80655                 80655   \n",
       "5      363122     363122  363122       363122                363122   \n",
       "\n",
       "       HelpfulnessDenominator    Time  Summary    Text  \n",
       "Score                                                   \n",
       "1                       52268   52268    52268   52268  \n",
       "2                       29769   29769    29769   29769  \n",
       "3                       42640   42640    42640   42640  \n",
       "4                       80655   80655    80655   80655  \n",
       "5                      363122  363122   363122  363122  "
      ]
     },
     "execution_count": 8,
     "metadata": {},
     "output_type": "execute_result"
    }
   ],
   "source": [
    "df.groupby(\"Score\").count()"
   ]
  },
  {
   "cell_type": "code",
   "execution_count": 9,
   "id": "3761f715-00e5-4c06-b2ea-bb01368d344f",
   "metadata": {},
   "outputs": [],
   "source": [
    "df[\"Score\"].replace(1, value=\"negatif\",inplace = True )\n",
    "df[\"Score\"].replace(2, value=\"negatif\",inplace = True )\n",
    "df[\"Score\"].replace(4, value=\"positive\",inplace = True )\n",
    "df[\"Score\"].replace(5, value=\"positive\",inplace = True )"
   ]
  },
  {
   "cell_type": "code",
   "execution_count": 10,
   "id": "c3728274-d2c3-446b-b6da-357dffba32bd",
   "metadata": {},
   "outputs": [],
   "source": [
    "df = df[(df.Score== \"negatif\")| (df.Score == \"positive\")]"
   ]
  },
  {
   "cell_type": "code",
   "execution_count": 11,
   "id": "f586caeb-7c49-4a10-8276-45f6917e8122",
   "metadata": {},
   "outputs": [
    {
     "data": {
      "text/html": [
       "<div>\n",
       "<style scoped>\n",
       "    .dataframe tbody tr th:only-of-type {\n",
       "        vertical-align: middle;\n",
       "    }\n",
       "\n",
       "    .dataframe tbody tr th {\n",
       "        vertical-align: top;\n",
       "    }\n",
       "\n",
       "    .dataframe thead th {\n",
       "        text-align: right;\n",
       "    }\n",
       "</style>\n",
       "<table border=\"1\" class=\"dataframe\">\n",
       "  <thead>\n",
       "    <tr style=\"text-align: right;\">\n",
       "      <th></th>\n",
       "      <th>Id</th>\n",
       "      <th>ProductId</th>\n",
       "      <th>UserId</th>\n",
       "      <th>ProfileName</th>\n",
       "      <th>HelpfulnessNumerator</th>\n",
       "      <th>HelpfulnessDenominator</th>\n",
       "      <th>Time</th>\n",
       "      <th>Summary</th>\n",
       "      <th>Text</th>\n",
       "    </tr>\n",
       "    <tr>\n",
       "      <th>Score</th>\n",
       "      <th></th>\n",
       "      <th></th>\n",
       "      <th></th>\n",
       "      <th></th>\n",
       "      <th></th>\n",
       "      <th></th>\n",
       "      <th></th>\n",
       "      <th></th>\n",
       "      <th></th>\n",
       "    </tr>\n",
       "  </thead>\n",
       "  <tbody>\n",
       "    <tr>\n",
       "      <th>negatif</th>\n",
       "      <td>82037</td>\n",
       "      <td>82037</td>\n",
       "      <td>82037</td>\n",
       "      <td>82037</td>\n",
       "      <td>82037</td>\n",
       "      <td>82037</td>\n",
       "      <td>82037</td>\n",
       "      <td>82037</td>\n",
       "      <td>82037</td>\n",
       "    </tr>\n",
       "    <tr>\n",
       "      <th>positive</th>\n",
       "      <td>443777</td>\n",
       "      <td>443777</td>\n",
       "      <td>443777</td>\n",
       "      <td>443777</td>\n",
       "      <td>443777</td>\n",
       "      <td>443777</td>\n",
       "      <td>443777</td>\n",
       "      <td>443777</td>\n",
       "      <td>443777</td>\n",
       "    </tr>\n",
       "  </tbody>\n",
       "</table>\n",
       "</div>"
      ],
      "text/plain": [
       "              Id  ProductId  UserId  ProfileName  HelpfulnessNumerator  \\\n",
       "Score                                                                    \n",
       "negatif    82037      82037   82037        82037                 82037   \n",
       "positive  443777     443777  443777       443777                443777   \n",
       "\n",
       "          HelpfulnessDenominator    Time  Summary    Text  \n",
       "Score                                                      \n",
       "negatif                    82037   82037    82037   82037  \n",
       "positive                  443777  443777   443777  443777  "
      ]
     },
     "execution_count": 11,
     "metadata": {},
     "output_type": "execute_result"
    }
   ],
   "source": [
    "df.groupby(\"Score\").count()"
   ]
  },
  {
   "cell_type": "code",
   "execution_count": 12,
   "id": "ebf0107d-f472-445b-8158-837a021f387f",
   "metadata": {},
   "outputs": [],
   "source": [
    "df_main = pd.DataFrame()\n",
    "df_main[\"text\"] = df[\"Text\"]\n",
    "df_main[\"label\"]= df[\"Score\"]"
   ]
  },
  {
   "cell_type": "code",
   "execution_count": 13,
   "id": "dd07f15e-c396-49c5-a858-d5ae5b436356",
   "metadata": {},
   "outputs": [
    {
     "data": {
      "text/html": [
       "<div>\n",
       "<style scoped>\n",
       "    .dataframe tbody tr th:only-of-type {\n",
       "        vertical-align: middle;\n",
       "    }\n",
       "\n",
       "    .dataframe tbody tr th {\n",
       "        vertical-align: top;\n",
       "    }\n",
       "\n",
       "    .dataframe thead th {\n",
       "        text-align: right;\n",
       "    }\n",
       "</style>\n",
       "<table border=\"1\" class=\"dataframe\">\n",
       "  <thead>\n",
       "    <tr style=\"text-align: right;\">\n",
       "      <th></th>\n",
       "      <th>text</th>\n",
       "      <th>label</th>\n",
       "    </tr>\n",
       "  </thead>\n",
       "  <tbody>\n",
       "    <tr>\n",
       "      <th>0</th>\n",
       "      <td>I have bought several of the Vitality canned d...</td>\n",
       "      <td>positive</td>\n",
       "    </tr>\n",
       "    <tr>\n",
       "      <th>1</th>\n",
       "      <td>Product arrived labeled as Jumbo Salted Peanut...</td>\n",
       "      <td>negatif</td>\n",
       "    </tr>\n",
       "    <tr>\n",
       "      <th>2</th>\n",
       "      <td>This is a confection that has been around a fe...</td>\n",
       "      <td>positive</td>\n",
       "    </tr>\n",
       "    <tr>\n",
       "      <th>3</th>\n",
       "      <td>If you are looking for the secret ingredient i...</td>\n",
       "      <td>negatif</td>\n",
       "    </tr>\n",
       "    <tr>\n",
       "      <th>4</th>\n",
       "      <td>Great taffy at a great price.  There was a wid...</td>\n",
       "      <td>positive</td>\n",
       "    </tr>\n",
       "  </tbody>\n",
       "</table>\n",
       "</div>"
      ],
      "text/plain": [
       "                                                text     label\n",
       "0  I have bought several of the Vitality canned d...  positive\n",
       "1  Product arrived labeled as Jumbo Salted Peanut...   negatif\n",
       "2  This is a confection that has been around a fe...  positive\n",
       "3  If you are looking for the secret ingredient i...   negatif\n",
       "4  Great taffy at a great price.  There was a wid...  positive"
      ]
     },
     "execution_count": 13,
     "metadata": {},
     "output_type": "execute_result"
    }
   ],
   "source": [
    "df_main.head()"
   ]
  },
  {
   "cell_type": "code",
   "execution_count": 14,
   "id": "fead1be0-dd26-4652-9082-e74fd2bd4666",
   "metadata": {},
   "outputs": [],
   "source": [
    "#uppercase-lowercase\n",
    "df_main[\"text\"] = df_main[\"text\"].apply(lambda x: \" \".join(x.lower() for x in x.split()))"
   ]
  },
  {
   "cell_type": "code",
   "execution_count": 17,
   "id": "ea38f68d-1ea7-4ef5-871f-b1afafa589dc",
   "metadata": {},
   "outputs": [],
   "source": [
    "#deleting punctuations\n",
    "df_main[\"text\"] = df_main[\"text\"].str.replace(\"[^\\w\\s]\",\"\")"
   ]
  },
  {
   "cell_type": "code",
   "execution_count": 18,
   "id": "800f776f-5c3c-4748-8e1d-6f9d7e5b024f",
   "metadata": {},
   "outputs": [],
   "source": [
    "#deleting numbers\n",
    "df_main[\"text\"] = df_main[\"text\"].str.replace(\"\\d\",\"\")"
   ]
  },
  {
   "cell_type": "code",
   "execution_count": 19,
   "id": "aa217604-3ad5-495e-81f7-8aa247398e99",
   "metadata": {},
   "outputs": [
    {
     "data": {
      "text/plain": [
       "0         i have bought several of the vitality canned d...\n",
       "1         product arrived labeled as jumbo salted peanut...\n",
       "2         this is a confection that has been around a fe...\n",
       "3         if you are looking for the secret ingredient i...\n",
       "4         great taffy at a great price there was a wide ...\n",
       "                                ...                        \n",
       "568449    great for sesame chickenthis is a good if not ...\n",
       "568450    im disappointed with the flavor the chocolate ...\n",
       "568451    these stars are small so you can give  of thos...\n",
       "568452    these are the best treats for training and rew...\n",
       "568453    i am very satisfied product is as advertised i...\n",
       "Name: text, Length: 525814, dtype: object"
      ]
     },
     "execution_count": 19,
     "metadata": {},
     "output_type": "execute_result"
    }
   ],
   "source": [
    "df_main[\"text\"]"
   ]
  },
  {
   "cell_type": "code",
   "execution_count": 20,
   "id": "4164f69a-40c1-4d9c-abfc-7b790272771e",
   "metadata": {},
   "outputs": [
    {
     "name": "stderr",
     "output_type": "stream",
     "text": [
      "[nltk_data] Downloading package stopwords to\n",
      "[nltk_data]     /Users/halime/nltk_data...\n",
      "[nltk_data]   Package stopwords is already up-to-date!\n"
     ]
    }
   ],
   "source": [
    "#STOPWORDS\n",
    "import nltk \n",
    "nltk.download(\"stopwords\")\n",
    "from nltk.corpus import stopwords\n",
    "sw = stopwords.words(\"english\")\n",
    "df_main[\"text\"] = df_main[\"text\"].apply(lambda x: \" \".join(x for x in x.split() if x not in sw))"
   ]
  },
  {
   "cell_type": "code",
   "execution_count": 21,
   "id": "cfa034cc-3f08-4fc5-ba86-e739f7d2db7a",
   "metadata": {},
   "outputs": [],
   "source": [
    "#deleting less common words\n",
    "delete = pd.Series(\" \".join(df_main[\"text\"]).split()).value_counts()[-1000:]\n",
    "df_main[\"text\"] = df_main[\"text\"].apply(lambda x: \" \".join(x for x in x.split() if x not in delete))"
   ]
  },
  {
   "cell_type": "code",
   "execution_count": 22,
   "id": "514651e0-4599-4dac-bc87-05d9a5af4df5",
   "metadata": {},
   "outputs": [
    {
     "name": "stderr",
     "output_type": "stream",
     "text": [
      "[nltk_data] Downloading package wordnet to /Users/halime/nltk_data...\n",
      "[nltk_data]   Package wordnet is already up-to-date!\n"
     ]
    }
   ],
   "source": [
    "#lemmatization\n",
    "from textblob import Word\n",
    "nltk.download(\"wordnet\")\n",
    "df_main[\"text\"] = df_main[\"text\"].apply(lambda x:\" \".join([Word(word).lemmatize() for word in x.split()]))"
   ]
  },
  {
   "cell_type": "code",
   "execution_count": 23,
   "id": "74f168e1-fd6b-4c51-9cbc-4653f83f35f9",
   "metadata": {},
   "outputs": [],
   "source": [
    "#Test-Train Splitting\n",
    "from sklearn.model_selection import train_test_split\n",
    "from sklearn import preprocessing\n",
    "from sklearn.preprocessing import StandardScaler\n",
    "train_x, test_x,train_y,test_y = train_test_split(df_main[\"text\"],df_main[\"label\"])\n",
    "encoder = preprocessing.LabelEncoder()\n",
    "train_y = encoder.fit_transform(train_y)\n",
    "test_y = encoder.fit_transform(test_y)"
   ]
  },
  {
   "cell_type": "code",
   "execution_count": 24,
   "id": "13a3aead-bcb0-407d-9ad1-90cb72cf9189",
   "metadata": {},
   "outputs": [
    {
     "data": {
      "text/plain": [
       "array([0, 1, 1, 1, 1])"
      ]
     },
     "execution_count": 24,
     "metadata": {},
     "output_type": "execute_result"
    }
   ],
   "source": [
    "train_y[0:5]"
   ]
  },
  {
   "cell_type": "code",
   "execution_count": 25,
   "id": "c794ba0f-0c84-4a2f-a62d-1b645566e225",
   "metadata": {},
   "outputs": [
    {
     "data": {
      "text/plain": [
       "array([1, 0, 1, 0, 1])"
      ]
     },
     "execution_count": 25,
     "metadata": {},
     "output_type": "execute_result"
    }
   ],
   "source": [
    "test_y[0:5]"
   ]
  },
  {
   "cell_type": "markdown",
   "id": "5bc6635a-2b18-4a81-a602-ae6a471637fd",
   "metadata": {},
   "source": [
    "#COUNT VECTORS"
   ]
  },
  {
   "cell_type": "code",
   "execution_count": 26,
   "id": "a0f80c1f-9919-4d03-8e48-30400880b0b6",
   "metadata": {},
   "outputs": [
    {
     "data": {
      "text/plain": [
       "CountVectorizer()"
      ]
     },
     "execution_count": 26,
     "metadata": {},
     "output_type": "execute_result"
    }
   ],
   "source": [
    "from sklearn.feature_extraction.text import CountVectorizer\n",
    "vectorizer = CountVectorizer()\n",
    "vectorizer.fit(train_x)"
   ]
  },
  {
   "cell_type": "code",
   "execution_count": 27,
   "id": "02899faf-2a82-4462-8ae2-721db8e2aabe",
   "metadata": {},
   "outputs": [],
   "source": [
    "X_train_count = vectorizer.transform(train_x)\n",
    "X_test_count = vectorizer.transform(test_x)"
   ]
  },
  {
   "cell_type": "markdown",
   "id": "106f7326-ef0b-4772-b05d-9cc7541029a3",
   "metadata": {},
   "source": [
    "#LOGISTIC REGRESSION"
   ]
  },
  {
   "cell_type": "code",
   "execution_count": 28,
   "id": "a75c4c9c-254e-4aa7-9d7f-25cafc5dbb5d",
   "metadata": {},
   "outputs": [],
   "source": [
    "from sklearn.linear_model import LogisticRegression\n",
    "loj = LogisticRegression()\n",
    "loj_model = loj.fit(X_train_count,train_y)"
   ]
  },
  {
   "cell_type": "code",
   "execution_count": 29,
   "id": "6e8c5fab-ac8c-4e79-aea5-c36bc66a02a4",
   "metadata": {},
   "outputs": [
    {
     "name": "stdout",
     "output_type": "stream",
     "text": [
      "0.9320751096457915\n"
     ]
    }
   ],
   "source": [
    "from sklearn.model_selection import cross_val_score\n",
    "accuracy = cross_val_score(loj_model, X_test_count,test_y, cv=10).mean()\n",
    "print(accuracy)"
   ]
  },
  {
   "cell_type": "code",
   "execution_count": 30,
   "id": "af1b99d2-40ee-4ad8-8dbe-2435f45a9d25",
   "metadata": {},
   "outputs": [
    {
     "data": {
      "text/plain": [
       "array([1, 1, 1, 1, 1, 1, 1, 1, 1, 1, 1, 1, 1, 1, 1, 1, 1, 1, 1, 1, 1, 1,\n",
       "       1, 1, 1, 1, 1, 1, 1, 1, 1, 1, 1, 1, 1, 1, 1, 1, 1, 1, 1, 1, 1, 1,\n",
       "       1, 1, 1, 1, 1, 1, 1, 1, 1, 1, 1, 1, 1, 0, 1, 1, 1, 1, 0, 1, 1, 1,\n",
       "       1, 0, 0, 0, 1, 1, 1, 1, 1, 1, 1, 1, 1, 1, 1, 1, 1, 1, 1, 1, 1, 1,\n",
       "       1, 1, 0, 1, 0, 1, 1, 1, 1, 1, 1, 1])"
      ]
     },
     "execution_count": 30,
     "metadata": {},
     "output_type": "execute_result"
    }
   ],
   "source": [
    "#Sentiment Analysis\n",
    "texts = df_main[\"text\"]\n",
    "new_comment = pd.Series(texts)\n",
    "v = CountVectorizer()\n",
    "v.fit(train_x)\n",
    "new_comment = v.transform(new_comment)\n",
    "sentiment = loj_model.predict(new_comment)\n",
    "sentiment[0:100]"
   ]
  },
  {
   "cell_type": "code",
   "execution_count": 31,
   "id": "0c4adbf4-0c7e-4a5c-9c4a-8037b6982133",
   "metadata": {},
   "outputs": [],
   "source": [
    "data = pd.DataFrame({\"text\": df_main[\"text\"],\n",
    "                    \"sentiment\": sentiment})"
   ]
  },
  {
   "cell_type": "code",
   "execution_count": 33,
   "id": "4db50d33-2c7f-48e6-a591-97b35fd79279",
   "metadata": {},
   "outputs": [
    {
     "data": {
      "text/html": [
       "<div>\n",
       "<style scoped>\n",
       "    .dataframe tbody tr th:only-of-type {\n",
       "        vertical-align: middle;\n",
       "    }\n",
       "\n",
       "    .dataframe tbody tr th {\n",
       "        vertical-align: top;\n",
       "    }\n",
       "\n",
       "    .dataframe thead th {\n",
       "        text-align: right;\n",
       "    }\n",
       "</style>\n",
       "<table border=\"1\" class=\"dataframe\">\n",
       "  <thead>\n",
       "    <tr style=\"text-align: right;\">\n",
       "      <th></th>\n",
       "      <th>text</th>\n",
       "      <th>sentiment</th>\n",
       "    </tr>\n",
       "  </thead>\n",
       "  <tbody>\n",
       "    <tr>\n",
       "      <th>0</th>\n",
       "      <td>bought several vitality canned dog food produc...</td>\n",
       "      <td>1</td>\n",
       "    </tr>\n",
       "    <tr>\n",
       "      <th>1</th>\n",
       "      <td>product arrived labeled jumbo salted peanutsth...</td>\n",
       "      <td>1</td>\n",
       "    </tr>\n",
       "    <tr>\n",
       "      <th>2</th>\n",
       "      <td>confection around century light pillowy citrus...</td>\n",
       "      <td>1</td>\n",
       "    </tr>\n",
       "    <tr>\n",
       "      <th>3</th>\n",
       "      <td>looking secret ingredient robitussin believe f...</td>\n",
       "      <td>1</td>\n",
       "    </tr>\n",
       "    <tr>\n",
       "      <th>4</th>\n",
       "      <td>great taffy great price wide assortment yummy ...</td>\n",
       "      <td>1</td>\n",
       "    </tr>\n",
       "  </tbody>\n",
       "</table>\n",
       "</div>"
      ],
      "text/plain": [
       "                                                text  sentiment\n",
       "0  bought several vitality canned dog food produc...          1\n",
       "1  product arrived labeled jumbo salted peanutsth...          1\n",
       "2  confection around century light pillowy citrus...          1\n",
       "3  looking secret ingredient robitussin believe f...          1\n",
       "4  great taffy great price wide assortment yummy ...          1"
      ]
     },
     "execution_count": 33,
     "metadata": {},
     "output_type": "execute_result"
    }
   ],
   "source": [
    "data.head()"
   ]
  },
  {
   "cell_type": "code",
   "execution_count": 39,
   "id": "fcce9719-97ff-4a8e-a106-b9c89535083c",
   "metadata": {},
   "outputs": [
    {
     "data": {
      "text/plain": [
       "array([0])"
      ]
     },
     "execution_count": 39,
     "metadata": {},
     "output_type": "execute_result"
    }
   ],
   "source": [
    "#New Comment\n",
    "new = pd.Series(\"That was awful, I do not recommend you to buy this product\")\n",
    "new = v.transform(new)\n",
    "sentiment = loj_model.predict(new)\n",
    "sentiment"
   ]
  },
  {
   "cell_type": "markdown",
   "id": "26d702f5-aa3c-456d-ba66-f32785b46457",
   "metadata": {},
   "source": [
    "-0 which means negative "
   ]
  }
 ],
 "metadata": {
  "kernelspec": {
   "display_name": "Python 3",
   "language": "python",
   "name": "python3"
  },
  "language_info": {
   "codemirror_mode": {
    "name": "ipython",
    "version": 3
   },
   "file_extension": ".py",
   "mimetype": "text/x-python",
   "name": "python",
   "nbconvert_exporter": "python",
   "pygments_lexer": "ipython3",
   "version": "3.8.8"
  }
 },
 "nbformat": 4,
 "nbformat_minor": 5
}
